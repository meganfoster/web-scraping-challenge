{
 "cells": [
  {
   "cell_type": "code",
   "execution_count": 1,
   "metadata": {},
   "outputs": [],
   "source": [
    "import pymongo\n",
    "from bs4 import BeautifulSoup as bs\n",
    "import requests\n",
    "from splinter import Browser\n",
    "from webdriver_manager.chrome import ChromeDriverManager"
   ]
  },
  {
   "cell_type": "code",
   "execution_count": 2,
   "metadata": {},
   "outputs": [
    {
     "name": "stderr",
     "output_type": "stream",
     "text": [
      "[WDM] - Current google-chrome version is 85.0.4183\n",
      "[WDM] - Get LATEST driver version for 85.0.4183\n",
      "[WDM] - Driver [C:\\Users\\megan\\.wdm\\drivers\\chromedriver\\win32\\85.0.4183.87\\chromedriver.exe] found in cache\n"
     ]
    },
    {
     "name": "stdout",
     "output_type": "stream",
     "text": [
      " \n"
     ]
    }
   ],
   "source": [
    "executable_path = {\"executable_path\": ChromeDriverManager().install()}\n",
    "browser = Browser('chrome', **executable_path, headless=False)"
   ]
  },
  {
   "cell_type": "code",
   "execution_count": 3,
   "metadata": {},
   "outputs": [],
   "source": [
    "url = 'https://mars.nasa.gov/news/?page=0&per_page=40&order=publish_date+desc%2Ccreated_at+desc&search=&category=19%2C165%2C184%2C204&blank_scope=Latest'\n",
    "browser.visit(url)"
   ]
  },
  {
   "cell_type": "code",
   "execution_count": 4,
   "metadata": {},
   "outputs": [
    {
     "name": "stdout",
     "output_type": "stream",
     "text": [
      "['Mars Now', \"NASA Readies Perseverance Mars Rover's Earthly Twin\", \"NASA Engineers Checking InSight's Weather Sensors\", \"Follow NASA's Perseverance Rover in Real Time on Its Way to Mars\", 'NASA Establishes Board to Initially Review Mars Sample Return Plans', \"NASA's Ingenuity Mars Helicopter Recharges Its Batteries in Flight\", \"Celebrate Mars Reconnaissance Orbiter's Views From Above\", \"NASA's MAVEN Observes Martian Night Sky Pulsing in Ultraviolet Light\", \"8 Martian Postcards to Celebrate Curiosity's Landing Anniversary\", 'NASA, ULA Launch Mars 2020 Perseverance Rover Mission to Red Planet', \"NASA's Perseverance Rover Will Carry First Spacesuit Materials to Mars\", \"A New Video Captures the Science of NASA's Perseverance Mars Rover\", 'NASA Invites Public to Share Excitement of Mars 2020 Perseverance Rover Launch', \"NASA's Mars Perseverance Rover Passes Flight Readiness Review\", 'NASA to Broadcast Mars 2020 Perseverance Launch, Prelaunch Activities', \"6 Things to Know About NASA's Ingenuity Mars Helicopter\", 'Join NASA for the Launch of the Mars 2020 Perseverance Rover', \"NASA's Perseverance Rover Attached to Atlas V Rocket\", '7 Things to Know About the Mars 2020 Perseverance Rover Mission', \"NASA's InSight Flexes Its Arm While Its 'Mole' Hits Pause\", \"Curiosity Mars Rover's Summer Road Trip Has Begun\", \"How NASA's Mars Helicopter Will Reach the Red Planet's Surface\", \"The Launch Is Approaching for NASA's Next Mars Rover, Perseverance\", 'NASA to Hold Mars 2020 Perseverance Rover Launch Briefing', \"While Stargazing on Mars, NASA's Curiosity Rover Spots Earth and Venus\", \"NASA's Mars Rover Drivers Need Your Help\", \"Three New Views of Mars' Moon Phobos\", \"The Extraordinary Sample-Gathering System of NASA's Perseverance Mars Rover\", \"The Detective Aboard NASA's Perseverance Rover\", 'MAVEN Maps Electric Currents around Mars that are Fundamental to Atmospheric Loss', \"Air Deliveries Bring NASA's Perseverance Mars Rover Closer to Launch\", \"NASA Wins 4 Webbys, 4 People's Voice Awards\", \"NASA's Perseverance Rover Goes Through Trials by Fire, Ice, Light and Sound\", \"NASA's Perseverance Rover Mission Getting in Shape for Launch\", 'NASA Perseverance Mars Rover Scientists Train in the Nevada Desert', \"NASA's Perseverance Rover Will Look at Mars Through These 'Eyes'\", \"Meet the People Behind NASA's Perseverance Rover\", \"Q&A with the Student Who Named Ingenuity, NASA's Mars Helicopter\", \"Alabama High School Student Names NASA's Mars Helicopter\", \"How NASA's Perseverance Mars Team Adjusted to Work in the Time of Coronavirus\", \"NASA's Perseverance Mars Rover Gets Balanced\", 'NASA to Hold Mars 2020 Perseverance Rover Launch Briefing', \"Alabama High School Student Names NASA's Mars Helicopter\", \"Mars Helicopter Attached to NASA's Perseverance Rover\", \"NASA Readies Perseverance Mars Rover's Earthly Twin\", 'NASA to Broadcast Mars 2020 Perseverance Launch, Prelaunch Activities', \"The Launch Is Approaching for NASA's Next Mars Rover, Perseverance\", 'NASA to Hold Mars 2020 Perseverance Rover Launch Briefing', \"Alabama High School Student Names NASA's Mars Helicopter\", \"Mars Helicopter Attached to NASA's Perseverance Rover\", \"NASA Readies Perseverance Mars Rover's Earthly Twin\", 'NASA to Broadcast Mars 2020 Perseverance Launch, Prelaunch Activities', \"The Launch Is Approaching for NASA's Next Mars Rover, Perseverance\"]\n",
      "[\"Did you know NASA's next Mars rover has a nearly identical sibling on Earth for testing? Even better, it's about to roll for the first time through a replica Martian landscape.\", 'An electronics issue is suspected to be preventing the sensors from sharing their data about Mars weather with the spacecraft.', \"A crisply rendered web application can show you where the agency's Mars 2020 mission is right now as it makes its way to the Red Planet for a Feb. 18, 2021, landing.\", 'The board will assist with analysis of current plans and goals for one of the most difficult missions humanity has ever undertaken.', 'Headed to the Red Planet with the Perseverance rover, the pioneering helicopter is powered up for the first time in interplanetary space as part of a systems check.', 'Marking its 15th anniversary since launch, one of the oldest spacecraft at the Red Planet has provided glimpses of dust devils, avalanches, and more.', 'Vast areas of the Martian night sky pulse in ultraviolet light, according to images from NASA’s MAVEN spacecraft. The results are being used to illuminate complex circulation patterns in the Martian atmosphere.', 'The NASA rover touched down eight years ago, on Aug. 5, 2012, and will soon be joined by a second rover, Perseverance.', \"The agency's Mars 2020 mission is on its way. It will land at Jezero Crater in about seven months, on Feb. 18, 2021.\", 'In a Q&A, spacesuit designer Amy Ross explains how five samples, including a piece of helmet visor, will be tested aboard the rover, which is targeting a July 30 launch.', 'With a targeted launch date of July 30, the next robotic scientist NASA is sending to the to the Red Planet has big ambitions.', 'There are lots of ways to participate in the historic event, which is targeted for July 30.', \"\\u200bThe agency's Mars 2020 mission has one more big prelaunch review – the Launch Readiness Review, on July 27.\", 'Starting July 27, news activities will cover everything from mission engineering and science to returning samples from Mars to, of course, the launch itself.', 'The first helicopter attempting to fly on another planet is a marvel of engineering. Get up to speed with these key facts about its plans.', 'No matter where you live, choose from a menu of activities to join NASA as we \"Countdown to Mars\" and launch the Perseverance rover to the Red Planet.', 'Ready for its launch later in the month, the Mars-bound rover will touch terra firma no more.', \"NASA's next rover to the Red Planet is slated to launch no earlier than July 30. These highlights will get you up to speed on the ambitious mission.\", \"Now that the lander's robotic arm has helped the mole get underground, it will resume science activities that have been on hold.\", 'After more than a year in the \"clay-bearing unit,\" Curiosity is making a mile-long journey around some deep sand so that it can explore higher up Mount Sharp.', 'The small craft will seek to prove that powered, controlled flight is possible on another planet. But just getting it onto the surface of Mars will take a whole lot of ingenuity.', \"The Red Planet's surface has been visited by eight NASA spacecraft. The ninth will be the first that includes a roundtrip ticket in its flight plan.\", \"Learn more about the agency's next Red Planet mission during a live event on June 17.\", \"This new portrait of the Red Planet's neighbors was taken during a time when there's more dust in the air on Mars.\", 'Using an online tool to label Martian terrain types, you can train an artificial intelligence algorithm that could improve the way engineers guide the Curiosity rover.', \"Taken with the infrared camera aboard NASA's Odyssey orbiter, they reveal temperature variations on the small moon as it drifts into and out of Mars’ shadow.\", 'Two astronauts collected Moon rocks on Apollo 11. It will take three robotic systems working together to gather up the first Mars rock samples for return to Earth.', 'An instrument called SHERLOC will, with the help of its partner WATSON, hunt for signs of ancient life by detecting organic molecules and minerals.', 'Five years after NASA’s MAVEN spacecraft entered into orbit around Mars, data from the mission has led to the creation of a map of electric current systems in the Martian atmosphere.', \"A NASA Wallops Flight Facility cargo plane transported more than two tons of equipment — including the rover's sample collection tubes — to Florida for this summer's liftoff.\", 'Winners include the JPL-managed \"Send Your Name to Mars\" campaign, NASA\\'s Global Climate Change website and Solar System Interactive.', \"The agency's new Mars rover is put through a series of tests in vacuum chambers, acoustic chambers and more to get ready for the Red Planet.\", 'Stacking spacecraft components on top of each other is one of the final assembly steps before a mission launches to the Red Planet.', \"Team members searched for signs of ancient microscopic life there, just as NASA's latest rover will on the Red Planet next year.\", 'A pair of zoomable cameras will help scientists and rover drivers with high-resolution color images.', \"These are the scientists and engineers who built NASA's next Mars rover and who will guide it to a safe landing in Jezero Crater.\", 'As a longtime fan of space exploration, Vaneeza Rupani appreciates the creativity and collaboration involved with trying to fly on another planet.', \"Vaneeza Rupani's essay was chosen as the name for the small spacecraft, which will mark NASA's first attempt at powered flight on another planet.\", 'Like much of the rest of the world, the Mars rover team is pushing forward with its mission-critical work while putting the health and safety of their colleagues and community first.', \"The mission team performed a crucial weight-balancing test on the rover in preparation for this summer's history-making launch to the Red Planet.\"]\n"
     ]
    }
   ],
   "source": [
    "html = browser.html\n",
    "soup = bs(html, 'html.parser')\n",
    "\n",
    "headings = soup.find_all('div', class_=\"content_title\")\n",
    "paragraphs = soup.find_all('div', class_=\"article_teaser_body\")\n",
    "\n",
    "title_list = []\n",
    "paragraph_list = []\n",
    "\n",
    "try:\n",
    "    for heading in headings:\n",
    "        title = heading.text.strip()\n",
    "        title_list.append(title)\n",
    "except NoneType:\n",
    "    pass\n",
    "\n",
    "try:\n",
    "    for paragraph in paragraphs:\n",
    "        description = paragraph.text.strip()\n",
    "        paragraph_list.append(description)\n",
    "except NoneType:\n",
    "    pass\n",
    "\n",
    "print(title_list)\n",
    "print(paragraph_list)\n",
    "        \n",
    "# news_title = title_list[1]\n",
    "# print(news_title)\n",
    "# news_p = paragraph_list[0]\n",
    "# print(news_p)\n"
   ]
  },
  {
   "cell_type": "code",
   "execution_count": null,
   "metadata": {},
   "outputs": [],
   "source": []
  },
  {
   "cell_type": "code",
   "execution_count": null,
   "metadata": {},
   "outputs": [],
   "source": []
  }
 ],
 "metadata": {
  "kernelspec": {
   "display_name": "Python 3",
   "language": "python",
   "name": "python3"
  },
  "language_info": {
   "codemirror_mode": {
    "name": "ipython",
    "version": 3
   },
   "file_extension": ".py",
   "mimetype": "text/x-python",
   "name": "python",
   "nbconvert_exporter": "python",
   "pygments_lexer": "ipython3",
   "version": "3.7.6"
  }
 },
 "nbformat": 4,
 "nbformat_minor": 4
}
