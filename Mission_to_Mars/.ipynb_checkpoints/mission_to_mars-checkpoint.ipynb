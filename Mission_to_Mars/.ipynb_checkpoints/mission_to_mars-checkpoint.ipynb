{
 "cells": [
  {
   "cell_type": "code",
   "execution_count": 1,
   "metadata": {},
   "outputs": [],
   "source": [
    "# Dependencies\n",
    "import pymongo\n",
    "import pandas as pd\n",
    "from bs4 import BeautifulSoup as bs\n",
    "import requests\n",
    "from splinter import Browser\n",
    "from webdriver_manager.chrome import ChromeDriverManager"
   ]
  },
  {
   "cell_type": "code",
   "execution_count": 2,
   "metadata": {},
   "outputs": [],
   "source": [
    "data = {}"
   ]
  },
  {
   "cell_type": "code",
   "execution_count": 3,
   "metadata": {},
   "outputs": [
    {
     "name": "stderr",
     "output_type": "stream",
     "text": [
      "[WDM] - Current google-chrome version is 85.0.4183\n",
      "[WDM] - Get LATEST driver version for 85.0.4183\n"
     ]
    },
    {
     "name": "stdout",
     "output_type": "stream",
     "text": [
      " \n"
     ]
    },
    {
     "name": "stderr",
     "output_type": "stream",
     "text": [
      "[WDM] - Driver [C:\\Users\\megan\\.wdm\\drivers\\chromedriver\\win32\\85.0.4183.87\\chromedriver.exe] found in cache\n"
     ]
    }
   ],
   "source": [
    "executable_path = {\"executable_path\": ChromeDriverManager().install()}\n",
    "browser = Browser('chrome', **executable_path, headless=False)"
   ]
  },
  {
   "cell_type": "code",
   "execution_count": 4,
   "metadata": {},
   "outputs": [],
   "source": [
    "url = 'https://mars.nasa.gov/news/?page=0&per_page=40&order=publish_date+desc%2Ccreated_at+desc&search=&category=19%2C165%2C184%2C204&blank_scope=Latest'\n",
    "browser.visit(url)"
   ]
  },
  {
   "cell_type": "code",
   "execution_count": 5,
   "metadata": {},
   "outputs": [
    {
     "name": "stdout",
     "output_type": "stream",
     "text": [
      "NASA Readies Perseverance Mars Rover's Earthly Twin\n",
      "Did you know NASA's next Mars rover has a nearly identical sibling on Earth for testing? Even better, it's about to roll for the first time through a replica Martian landscape.\n"
     ]
    }
   ],
   "source": [
    "import time\n",
    "time.sleep(4)\n",
    "html = browser.html\n",
    "soup = bs(html, 'html.parser')\n",
    "\n",
    "sidebar = soup.find('ul', class_='item_list')\n",
    "\n",
    "headings = sidebar.find_all('div', class_=\"content_title\")\n",
    "paragraphs = sidebar.find_all('div', class_=\"article_teaser_body\")\n",
    "\n",
    "title_list = []\n",
    "paragraph_list = []\n",
    "\n",
    "try:\n",
    "    for heading in headings:\n",
    "        title = heading.text.strip()\n",
    "        title_list.append(title)\n",
    "except NoneType:\n",
    "    pass\n",
    "\n",
    "for paragraph in paragraphs:\n",
    "    description = paragraph.text.strip()\n",
    "    paragraph_list.append(description)\n",
    "\n",
    "news_title = title_list[0]\n",
    "news_p = paragraph_list[0]\n",
    "print(news_title)\n",
    "print(news_p)\n",
    "\n",
    "data.update(news_title = title_list[0])\n",
    "data.update(news_p = paragraph_list[0])"
   ]
  },
  {
   "cell_type": "code",
   "execution_count": 6,
   "metadata": {},
   "outputs": [
    {
     "name": "stdout",
     "output_type": "stream",
     "text": [
      "['https://www.jpl.nasa.gov/spaceimages/images/mediumsize/PIA17793_ip.jpg']\n"
     ]
    }
   ],
   "source": [
    "image_url = 'https://www.jpl.nasa.gov/spaceimages/?search=&category=Mars'\n",
    "browser.visit(image_url)\n",
    "\n",
    "browser.click_link_by_id('full_image')\n",
    "\n",
    "html = browser.html\n",
    "soup = bs(html, 'html.parser')\n",
    "\n",
    "jpl_url = 'https://www.jpl.nasa.gov'\n",
    "\n",
    "first_layer = soup.find('a', class_=\"button fancybox\")\n",
    "image_url = first_layer.attrs['data-fancybox-href']\n",
    "\n",
    "featured_image_url = [jpl_url + image_url]\n",
    "\n",
    "print(featured_image_url)\n",
    "\n",
    "data.update(featured_image_url = jpl_url + image_url)"
   ]
  },
  {
   "cell_type": "code",
   "execution_count": 7,
   "metadata": {},
   "outputs": [],
   "source": [
    "facts_url = 'https://space-facts.com/mars/'\n",
    "tables = pd.read_html(facts_url)\n",
    "facts_df = tables[0]\n",
    "facts_df = facts_df.rename(columns={0:\"FACT\", 1:\"Details\"})\n",
    "facts_df.set_index(\"FACT\", inplace=True)\n",
    "html_table = facts_df.to_html()\n",
    "\n",
    "data.update(html_table = facts_df.to_html())"
   ]
  },
  {
   "cell_type": "code",
   "execution_count": 8,
   "metadata": {},
   "outputs": [
    {
     "name": "stderr",
     "output_type": "stream",
     "text": [
      "C:\\Users\\megan\\anaconda3\\lib\\site-packages\\splinter\\driver\\webdriver\\__init__.py:493: FutureWarning: browser.find_link_by_partial_text is deprecated. Use browser.links.find_by_partial_text instead.\n",
      "  FutureWarning,\n"
     ]
    },
    {
     "name": "stdout",
     "output_type": "stream",
     "text": [
      "[{'title': 'Cerberus Hemisphere Enhanced', 'img_url': 'https://astropedia.astrogeology.usgs.gov/download/Mars/Viking/cerberus_enhanced.tif/full.jpg'}, {'title': 'Schiaparelli Hemisphere Enhanced', 'img_url': 'https://astropedia.astrogeology.usgs.gov/download/Mars/Viking/schiaparelli_enhanced.tif/full.jpg'}, {'title': 'Syrtis Major Hemisphere Enhanced', 'img_url': 'https://astropedia.astrogeology.usgs.gov/download/Mars/Viking/syrtis_major_enhanced.tif/full.jpg'}, {'title': 'Valles Marineris Hemisphere Enhanced', 'img_url': 'https://astropedia.astrogeology.usgs.gov/download/Mars/Viking/valles_marineris_enhanced.tif/full.jpg'}]\n"
     ]
    }
   ],
   "source": [
    "url = 'https://astrogeology.usgs.gov/search/results?q=hemisphere+enhanced&k1=target&v1=Mars'\n",
    "browser.visit(url)\n",
    "\n",
    "html = browser.html\n",
    "soup = bs(html, 'html.parser')\n",
    "\n",
    "sidebar = soup.find('div', class_='collapsible results')\n",
    "categories = sidebar.find_all('div', class_='description')\n",
    "\n",
    "moon_list = []\n",
    "url_list = []\n",
    "moon_url_list = []\n",
    "for category in categories:\n",
    "    moon = category.find('h3').text.strip()\n",
    "    moon_list.append(moon)\n",
    "    moon_url = category.find('a')['href']\n",
    "    url_list.append(moon_url)\n",
    "\n",
    "moon_url_list = ['https://astrogeology.usgs.gov' + url for url in url_list]\n",
    "\n",
    "img_urls = []\n",
    "for moon_url in moon_url_list:\n",
    "    url = moon_url\n",
    "    browser.visit(url)\n",
    "    browser.click_link_by_partial_text('Open')\n",
    "    html = browser.html\n",
    "    soup = bs(html, 'html.parser')\n",
    "    sidebar = soup.find('div', class_='container')\n",
    "    category = sidebar.find('div', class_='downloads')\n",
    "    moon_image = category.find('ul')\n",
    "    moon_image_text = moon_image.find('a')\n",
    "    moon_image_url = moon_image_text.attrs['href']\n",
    "    img_urls.append(moon_image_url)\n",
    "\n",
    "hemisphere_image_urls = []\n",
    "for m in range(0,4):\n",
    "    moon = {\"title\": moon_list[m], \"img_url\": img_urls[m]}\n",
    "    hemisphere_image_urls.append(moon)\n",
    "\n",
    "print(hemisphere_image_urls)"
   ]
  },
  {
   "cell_type": "code",
   "execution_count": 9,
   "metadata": {},
   "outputs": [],
   "source": [
    "data[\"hemisphere_image_urls\"] = hemisphere_image_urls"
   ]
  },
  {
   "cell_type": "code",
   "execution_count": 10,
   "metadata": {},
   "outputs": [
    {
     "name": "stdout",
     "output_type": "stream",
     "text": [
      "{'news_title': \"NASA Readies Perseverance Mars Rover's Earthly Twin\", 'news_p': \"Did you know NASA's next Mars rover has a nearly identical sibling on Earth for testing? Even better, it's about to roll for the first time through a replica Martian landscape.\", 'featured_image_url': 'https://www.jpl.nasa.gov/spaceimages/images/mediumsize/PIA17793_ip.jpg', 'html_table': '<table border=\"1\" class=\"dataframe\">\\n  <thead>\\n    <tr style=\"text-align: right;\">\\n      <th></th>\\n      <th>Details</th>\\n    </tr>\\n    <tr>\\n      <th>FACT</th>\\n      <th></th>\\n    </tr>\\n  </thead>\\n  <tbody>\\n    <tr>\\n      <th>Equatorial Diameter:</th>\\n      <td>6,792 km</td>\\n    </tr>\\n    <tr>\\n      <th>Polar Diameter:</th>\\n      <td>6,752 km</td>\\n    </tr>\\n    <tr>\\n      <th>Mass:</th>\\n      <td>6.39 × 10^23 kg (0.11 Earths)</td>\\n    </tr>\\n    <tr>\\n      <th>Moons:</th>\\n      <td>2 (Phobos &amp; Deimos)</td>\\n    </tr>\\n    <tr>\\n      <th>Orbit Distance:</th>\\n      <td>227,943,824 km (1.38 AU)</td>\\n    </tr>\\n    <tr>\\n      <th>Orbit Period:</th>\\n      <td>687 days (1.9 years)</td>\\n    </tr>\\n    <tr>\\n      <th>Surface Temperature:</th>\\n      <td>-87 to -5 °C</td>\\n    </tr>\\n    <tr>\\n      <th>First Record:</th>\\n      <td>2nd millennium BC</td>\\n    </tr>\\n    <tr>\\n      <th>Recorded By:</th>\\n      <td>Egyptian astronomers</td>\\n    </tr>\\n  </tbody>\\n</table>', 'hemisphere_image_urls': [{'title': 'Cerberus Hemisphere Enhanced', 'img_url': 'https://astropedia.astrogeology.usgs.gov/download/Mars/Viking/cerberus_enhanced.tif/full.jpg'}, {'title': 'Schiaparelli Hemisphere Enhanced', 'img_url': 'https://astropedia.astrogeology.usgs.gov/download/Mars/Viking/schiaparelli_enhanced.tif/full.jpg'}, {'title': 'Syrtis Major Hemisphere Enhanced', 'img_url': 'https://astropedia.astrogeology.usgs.gov/download/Mars/Viking/syrtis_major_enhanced.tif/full.jpg'}, {'title': 'Valles Marineris Hemisphere Enhanced', 'img_url': 'https://astropedia.astrogeology.usgs.gov/download/Mars/Viking/valles_marineris_enhanced.tif/full.jpg'}]}\n"
     ]
    }
   ],
   "source": [
    "print(data)"
   ]
  },
  {
   "cell_type": "code",
   "execution_count": null,
   "metadata": {},
   "outputs": [],
   "source": []
  }
 ],
 "metadata": {
  "kernelspec": {
   "display_name": "Python 3",
   "language": "python",
   "name": "python3"
  },
  "language_info": {
   "codemirror_mode": {
    "name": "ipython",
    "version": 3
   },
   "file_extension": ".py",
   "mimetype": "text/x-python",
   "name": "python",
   "nbconvert_exporter": "python",
   "pygments_lexer": "ipython3",
   "version": "3.7.6"
  }
 },
 "nbformat": 4,
 "nbformat_minor": 4
}
